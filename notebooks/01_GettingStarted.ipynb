{
 "cells": [
  {
   "cell_type": "markdown",
   "metadata": {
    "collapsed": true,
    "pycharm": {
     "name": "#%% md\n"
    }
   },
   "source": [
    "# 01 - Getting started with AxisUtilities"
   ]
  },
  {
   "cell_type": "markdown",
   "metadata": {
    "pycharm": {
     "name": "#%% md\n"
    }
   },
   "source": [
    "## Introduction\n",
    "`AxisUtilities` was originally developed to manages Time Axis and different operations related to time with the main \n",
    "focus on Earth & Atmospheric Science Community. For example, you might have a daily 3D spatially distributed temperature\n",
    "and you want to calculate the monthly average of this data. This result in the same spatial coordinate, however, with\n",
    "a different time axis/coordinate. \n",
    "\n",
    "However, similar operations could be performed on any one-dimensional axis. Let's say your data is distributed along the\n",
    "z-coordinate in certain way, and now you want to average them in a different vertical distribution. Although, your \n",
    "source axis is not time anymore, the mathematical operation that is being performed is the same. For this reason, it was\n",
    "decided to rename the package from [`TimeAxis`](https://github.com/maboualidev/TimeAxis) to \n",
    "[`AxisUtilities`](https://github.com/coderepocenter/AxisUtilities).\n",
    "\n",
    "During the axis conversion (conversion from source axis to destination axis), for example computing the monthly mean\n",
    "from the daily data, there are a lot of computations that needs to be done which does not involve the data itself. This\n",
    "means that we could cache these computations and reuse them to achieve a better performance. As long as the source and\n",
    "the destination axis have not changed, we could use the cached computation to perform the axis conversion. One of the\n",
    "features that `AxisUtilities` provide is caching these computations and allowing you to reuse it to achieve better \n",
    "performance. The same concept is being used in other packages such as \n",
    "[`ESMF`](https://www.earthsystemcog.org/projects/esmf/), \n",
    "[`SCRIP`](https://github.com/SCRIP-Project/SCRIP), and \n",
    "[`2D and 3D Remapping`](https://www.mathworks.com/matlabcentral/fileexchange/41669-2d-and-3d-remapping). In those \n",
    "packages, the cached computation is referred as ***Remapping Weights***."
   ]
  },
  {
   "cell_type": "markdown",
   "metadata": {
    "pycharm": {
     "name": "#%% md\n"
    }
   },
   "source": [
    "## How To Install?\n",
    "### using pip\n",
    "As usual, you could use `pip` installation as follows:\n",
    "\n",
    "```\n",
    "pip install axisutilities\n",
    "```\n",
    "\n",
    "### using conda\n",
    "You could install `AxisUtilities` using conda from `aciacs` channel as follows:\n",
    "\n",
    "```\n",
    "conda install -c conda-forge -c aciacs axisutilities\n",
    "```\n",
    "\n",
    "It is a good idea to create an environment for your project. in that case you could issue:\n",
    "\n",
    "```\n",
    "conda create -c conda-forge -c aciacs --name your_environment_name axisutilities\n",
    "```"
   ]
  },
  {
   "cell_type": "markdown",
   "metadata": {
    "pycharm": {
     "name": "#%% md\n"
    }
   },
   "source": [
    "## Now Really Getting Started with using `AxisUtilities`\n",
    "The general procedure is:\n",
    "\n",
    "0. Create a source axis, i.e. the axis that your original data is on,\n",
    "1. Create a destination axis, i.e. the axis that you want to convert your data to,\n",
    "2. Create an `AxisRemapper` object by passing the source and destination axis you created previously,\n",
    "3. Finally, convert your data from the source axis to the destination axis, using the `AxisRemapper` object you created\n",
    "in previous step.\n",
    "\n",
    "You could repeat step (3) as many time as you want, as long as the source and destination axis are the same. The true\n",
    "benefit of this approach is in the reuse of the same computations, a.k.a. ***remapping weights***."
   ]
  },
  {
   "cell_type": "markdown",
   "metadata": {
    "pycharm": {
     "name": "#%% md\n"
    }
   },
   "source": [
    "### Example 0: Manually creating The axis\n",
    "Let's say we have a daily data for 21 days and we are interested to average them each 7 days\n",
    "In this example we are going to create both of the source and destination axis completely manually.\n",
    "\n",
    "#### Step 0: Creating the source axis\n",
    "You could use `Axis` class to manually create an axis. You would need three type of information:\n",
    "\n",
    "0. Lower bounds,\n",
    "1. Upper bounds, and\n",
    "2. information about data ticks.\n",
    "\n",
    "Although the last item is not yet needed and is provided there for future development; however,\n",
    "you would need to provide it some how.\n",
    "\n",
    "As the name suggests, Lower and upper bound defines the start and end of an interval for each\n",
    "element or data entry of the axis. You would need to provide an integral value for it; however,\n",
    "`Axis` class does not support any units yet; So, it is the users responsibilities to make sure\n",
    "that the numbers are using a consistent unit and reference, particularly across the source and\n",
    "destination axis.\n",
    "\n",
    "For example, in this example, We mentioned that we want the source data to be 21 days. Let's\n",
    "say we are going to use hour as our unit. Hence, the lower bound and the upper bound for first 3\n",
    "days are:\n",
    "\n",
    "Day| 0 | 1 | 2|\n",
    "-|-|-|-|\n",
    "lower bound| 0 | 24 | 48 |\n",
    "upper bound| 24 | 48 | 72|\n",
    "\n",
    "Let's create our lower and upper bound"
   ]
  },
  {
   "cell_type": "code",
   "execution_count": 35,
   "metadata": {
    "pycharm": {
     "is_executing": false,
     "name": "#%%\n"
    }
   },
   "outputs": [
    {
     "name": "stdout",
     "text": [
      "lower bound:  [  0  24  48  72  96 120 144 168 192 216 240 264 288 312 336 360 384 408\n",
      " 432 456 480]\n",
      "upper bound:  [ 24  48  72  96 120 144 168 192 216 240 264 288 312 336 360 384 408 432\n",
      " 456 480 504]\n"
     ],
     "output_type": "stream"
    }
   ],
   "source": [
    "import numpy as np\n",
    "\n",
    "lower_bound = np.arange(21) * 24\n",
    "upper_bound = lower_bound + 24\n",
    "\n",
    "print(\"lower bound: \", lower_bound)\n",
    "print(\"upper bound: \", upper_bound)"
   ]
  },
  {
   "cell_type": "markdown",
   "metadata": {},
   "source": [
    "Now the data ticks! Although it is not required, but you need to provide it. There are\n",
    "multiple options to provide the data tick. \n",
    "\n",
    "0. Directly provide the values for the data ticks. For example, let's assume in our example\n",
    "we want to bind the data in the middle of the interval or day. Hence, we could create the \n",
    "data ticks as follows:"
   ]
  },
  {
   "cell_type": "code",
   "execution_count": 36,
   "metadata": {
    "pycharm": {
     "is_executing": false,
     "name": "#%%\n"
    }
   },
   "outputs": [
    {
     "name": "stdout",
     "text": [
      "data ticks:  [ 12  36  60  84 108 132 156 180 204 228 252 276 300 324 348 372 396 420\n",
      " 444 468 492]\n"
     ],
     "output_type": "stream"
    }
   ],
   "source": [
    "data_ticks = lower_bound + 12\n",
    "print(\"data ticks: \", data_ticks)"
   ]
  },
  {
   "cell_type": "markdown",
   "metadata": {
    "pycharm": {
     "name": "#%% md\n"
    }
   },
   "source": [
    "1. another option is to provide a fraction between 0 and 1 defining where in the interval you\n",
    "the data to be binded. For example, if you want to bind the data in the middle, as we did above,\n",
    "you could pass `fraction = 0.5`.\n",
    "\n",
    "2. The other option is to explicitly define the binding using words for one of the more\n",
    "well known locations, i.e.: \"beginning\", \"middle\", and \"end\".\n",
    "\n",
    "Let's create our source axis using all the three methods above:"
   ]
  },
  {
   "cell_type": "code",
   "execution_count": 37,
   "metadata": {
    "pycharm": {
     "is_executing": false,
     "name": "#%%\n"
    }
   },
   "outputs": [],
   "source": [
    "from axisutilities import Axis\n",
    "\n",
    "source_axis_method_0 = Axis(lower_bound, upper_bound, data_ticks=data_ticks)\n",
    "source_axis_method_1 = Axis(lower_bound, upper_bound, fraction=0.5)\n",
    "source_axis_method_2 = Axis(lower_bound, upper_bound, binding=\"middle\")"
   ]
  },
  {
   "cell_type": "markdown",
   "metadata": {
    "pycharm": {
     "name": "#%% md\n"
    }
   },
   "source": [
    "all the above source axis are equal. This is just to show how you could make it in different\n",
    "way. Without loosing any generality, let's stick to the last method. (I find it more \n",
    "expressive if some one else is reading the code)."
   ]
  },
  {
   "cell_type": "code",
   "execution_count": 38,
   "metadata": {
    "pycharm": {
     "is_executing": false,
     "name": "#%%\n"
    }
   },
   "outputs": [
    {
     "name": "stdout",
     "text": [
      "Source Axis: \n",
      " <timeaxis.TimeAxis>\n",
      "\n",
      "  > nelem:\n",
      "\t21\n",
      "  > lower_bound:\n",
      "\t[0 ... 480]\n",
      "  > upper_bound:\n",
      "\t[24 ... 504]\n",
      "  > data_ticks:\n",
      "\t[12 ... 492]\n",
      "  > fraction:\n",
      "\t[0.5 ... 0.5]\n",
      "  > binding:\n",
      "\tmiddle\n"
     ],
     "output_type": "stream"
    }
   ],
   "source": [
    "src_axis = Axis(lower_bound, upper_bound, binding=\"middle\")\n",
    "\n",
    "print(\"Source Axis: \\n\", src_axis)"
   ]
  },
  {
   "cell_type": "markdown",
   "metadata": {
    "pycharm": {
     "name": "#%% md\n"
    }
   },
   "source": [
    "#### Step 1: Creating the destination axis\n",
    "Likewise, we could create the destination axis. In our example, we are looking for weekly\n",
    "destination axis covering the 21 days, hence:"
   ]
  },
  {
   "cell_type": "code",
   "execution_count": 39,
   "metadata": {
    "pycharm": {
     "is_executing": false,
     "name": "#%%\n"
    }
   },
   "outputs": [
    {
     "name": "stdout",
     "text": [
      "Destination Axis: \n",
      " <timeaxis.TimeAxis>\n",
      "\n",
      "  > nelem:\n",
      "\t3\n",
      "  > lower_bound:\n",
      "\t[0 ... 336]\n",
      "  > upper_bound:\n",
      "\t[168 ... 504]\n",
      "  > data_ticks:\n",
      "\t[84 ... 420]\n",
      "  > fraction:\n",
      "\t[0.5 ... 0.5]\n",
      "  > binding:\n",
      "\tmiddle\n"
     ],
     "output_type": "stream"
    }
   ],
   "source": [
    "dst_axis = Axis(\n",
    "    lower_bound=np.arange(3) * 7 * 24,\n",
    "    upper_bound=np.arange(1, 4) * 7 * 24,\n",
    "    binding=\"middle\"\n",
    ")\n",
    "\n",
    "print(\"Destination Axis: \\n\", dst_axis)\n"
   ]
  },
  {
   "cell_type": "markdown",
   "metadata": {
    "pycharm": {
     "name": "#%% md\n"
    }
   },
   "source": [
    "#### Step 2: Creating the remapper object\n",
    "\n",
    "At the moment there is only one way to create the remapper object and thats by providing \n",
    "a source axis and destination axis. However, I have plans to make it even easier. But, here\n",
    "is how you could create a remapper now:"
   ]
  },
  {
   "cell_type": "code",
   "execution_count": 40,
   "metadata": {
    "pycharm": {
     "is_executing": false,
     "name": "#%%\n"
    }
   },
   "outputs": [],
   "source": [
    "from axisutilities import AxisRemapper\n",
    "\n",
    "axis_remapper = AxisRemapper(from_axis=src_axis, to_axis=dst_axis)\n",
    "\n"
   ]
  },
  {
   "cell_type": "markdown",
   "metadata": {
    "pycharm": {
     "name": "#%% md\n"
    }
   },
   "source": [
    "#### Step 3: Start remapping data\n",
    "\n",
    "Once you have your remapper, performing operations is straight forward. \n",
    "But, let's create a sample data first:"
   ]
  },
  {
   "cell_type": "code",
   "execution_count": 41,
   "metadata": {
    "pycharm": {
     "is_executing": false,
     "name": "#%%\n"
    }
   },
   "outputs": [],
   "source": [
    "data_0 = np.arange(21, dtype=\"float\")"
   ]
  },
  {
   "cell_type": "markdown",
   "metadata": {
    "pycharm": {
     "name": "#%% md\n"
    }
   },
   "source": [
    "Now doing the actual operations\n",
    "\n",
    "##### Calculating average, min, and max:"
   ]
  },
  {
   "cell_type": "code",
   "execution_count": 42,
   "metadata": {
    "pycharm": {
     "is_executing": false,
     "name": "#%%\n"
    }
   },
   "outputs": [
    {
     "name": "stdout",
     "text": [
      "Weekly Average: \n",
      " [[ 3.]\n",
      " [10.]\n",
      " [17.]]\n",
      "Weekly min: \n",
      " [[ 0.]\n",
      " [ 7.]\n",
      " [14.]]\n",
      "Weekly max: \n",
      " [[ 6.]\n",
      " [13.]\n",
      " [20.]]\n"
     ],
     "output_type": "stream"
    }
   ],
   "source": [
    "data_0_avg = axis_remapper.average(data_0)\n",
    "data_0_min = axis_remapper.min(data_0)\n",
    "data_0_max = axis_remapper.max(data_0)\n",
    "print(\"Weekly Average: \\n\", data_0_avg)\n",
    "print(\"Weekly min: \\n\", data_0_min)\n",
    "print(\"Weekly max: \\n\", data_0_max)"
   ]
  },
  {
   "cell_type": "markdown",
   "metadata": {
    "pycharm": {
     "name": "#%% md\n"
    }
   },
   "source": [
    "##### Applying a user defined function:\n",
    "You could also write your own function and applying your own function to the data while \n",
    "remapping. Let's say we are looking to calculate coefficient of variation, i.e. standard \n",
    "deviation divded by mean. First we need to create our function that performs the calculation\n",
    "that we want:"
   ]
  },
  {
   "cell_type": "code",
   "execution_count": 43,
   "metadata": {
    "pycharm": {
     "is_executing": false,
     "name": "#%%\n"
    }
   },
   "outputs": [],
   "source": [
    "def cv(data):\n",
    "    return np.nanstd(data) / np.nanmean(data)\n"
   ]
  },
  {
   "cell_type": "markdown",
   "metadata": {
    "pycharm": {
     "name": "#%% md\n"
    }
   },
   "source": [
    "then you should apply this function as follows:"
   ]
  },
  {
   "cell_type": "code",
   "execution_count": 44,
   "metadata": {
    "pycharm": {
     "is_executing": false,
     "name": "#%%\n"
    }
   },
   "outputs": [
    {
     "name": "stdout",
     "text": [
      "Weekly Coefficient of Variation: \n",
      " [[0.66666667]\n",
      " [0.2       ]\n",
      " [0.11764706]]\n"
     ],
     "output_type": "stream"
    }
   ],
   "source": [
    "data_0_cv = axis_remapper.apply_function(data_0, cv)\n",
    "\n",
    "print(\"Weekly Coefficient of Variation: \\n\", data_0_cv)"
   ]
  },
  {
   "cell_type": "markdown",
   "metadata": {
    "pycharm": {
     "name": "#%% md\n"
    }
   },
   "source": [
    "### Example 1: Re-using the remapper object\n",
    "The real benefit of this approach is in cases which you have multiple data sets on the same\n",
    "time axis, and you want to convert them to a same destination axis. In these cases, you dont\n",
    "need to recreate your mapper again and you can reuse all the pre-computations that are done\n",
    "before.\n",
    "\n",
    "Lets create another data sample:"
   ]
  },
  {
   "cell_type": "code",
   "execution_count": 45,
   "metadata": {
    "pycharm": {
     "is_executing": false,
     "name": "#%%\n"
    }
   },
   "outputs": [],
   "source": [
    "data_1 = np.random.random(21)\n",
    "\n",
    "data_1_avg = axis_remapper.average(data_1)\n",
    "data_1_min = axis_remapper.min(data_1)\n",
    "data_1_max = axis_remapper.max(data_1)\n",
    "data_1_cv  = axis_remapper.apply_function(data_1, cv)"
   ]
  },
  {
   "cell_type": "markdown",
   "metadata": {},
   "source": [
    "### Example 2: Processing multi-dimensional arrays\n",
    "You could use the same remapper even on the multi-dimensional array. Here is an example\n",
    "showing how it is done:\n",
    "\n",
    "First let's create a sample multi-dimensional data:"
   ]
  },
  {
   "cell_type": "code",
   "execution_count": 46,
   "metadata": {
    "pycharm": {
     "is_executing": false,
     "name": "#%%\n"
    }
   },
   "outputs": [],
   "source": [
    "data_2 = np.random.random((21, 90, 360))"
   ]
  },
  {
   "cell_type": "markdown",
   "metadata": {
    "pycharm": {
     "name": "#%% md\n"
    }
   },
   "source": [
    "Now lets use the same remapper:"
   ]
  },
  {
   "cell_type": "code",
   "execution_count": 47,
   "metadata": {
    "pycharm": {
     "is_executing": false,
     "name": "#%%\n"
    }
   },
   "outputs": [],
   "source": [
    "data_2_avg = axis_remapper.average(data_2)\n",
    "data_2_min = axis_remapper.min(data_2)\n",
    "data_2_max = axis_remapper.max(data_2)"
   ]
  },
  {
   "cell_type": "markdown",
   "metadata": {
    "pycharm": {
     "name": "#%% md\n"
    }
   },
   "source": [
    "How about the coefficient of variation? Remeber the implementation of the `cv` method. It was\n",
    "not support multi-dimensional arrays. So, we need to update it first:"
   ]
  },
  {
   "cell_type": "code",
   "execution_count": 48,
   "metadata": {
    "pycharm": {
     "is_executing": false,
     "name": "#%%\n"
    }
   },
   "outputs": [],
   "source": [
    "def cv2(data):\n",
    "    return np.nanstd(data, axis=0) / np.nanmean(data, axis=0)"
   ]
  },
  {
   "cell_type": "markdown",
   "metadata": {
    "pycharm": {
     "name": "#%% md\n"
    }
   },
   "source": [
    "now we can use the new implementation of `cv2`:"
   ]
  },
  {
   "cell_type": "code",
   "execution_count": 49,
   "metadata": {
    "pycharm": {
     "is_executing": false,
     "name": "#%%\n"
    }
   },
   "outputs": [],
   "source": [
    "data_2_cv = axis_remapper.apply_function(data_2, cv2)"
   ]
  },
  {
   "cell_type": "markdown",
   "metadata": {
    "pycharm": {
     "name": "#%% md\n"
    }
   },
   "source": [
    "### Example 3: More on Processing multi-dimensional array\n",
    "\n",
    "You can use the same remapper on multi-dimensional arrays where the source axis is not the first dimension.\n",
    "\n",
    "Let's create a data set and show how it is done:"
   ]
  },
  {
   "cell_type": "code",
   "execution_count": 50,
   "metadata": {
    "pycharm": {
     "is_executing": false,
     "name": "#%%\n"
    }
   },
   "outputs": [],
   "source": [
    "data_3 = np.random.random((90, 21, 360))"
   ]
  },
  {
   "cell_type": "markdown",
   "metadata": {
    "pycharm": {
     "name": "#%% md\n"
    }
   },
   "source": [
    "now we could re-use the same remapper as follows:"
   ]
  },
  {
   "cell_type": "code",
   "execution_count": 51,
   "metadata": {
    "pycharm": {
     "is_executing": false,
     "name": "#%%\n"
    }
   },
   "outputs": [
    {
     "name": "stdout",
     "text": [
      "data_2_avg.shape:  (3, 90, 360)\n",
      "data_3_avg.shape:  (90, 3, 360)\n"
     ],
     "output_type": "stream"
    }
   ],
   "source": [
    "data_3_avg = axis_remapper.average(data_3, dimension=1)\n",
    "data_3_min = axis_remapper.min(data_3, dimension=1)\n",
    "data_3_max = axis_remapper.max(data_3, dimension=1)\n",
    "data_3_cv = axis_remapper.apply_function(data_3, cv2, dimension=1)\n",
    "\n",
    "print(\"data_2_avg.shape: \", data_2_avg.shape)\n",
    "print(\"data_3_avg.shape: \", data_3_avg.shape)"
   ]
  },
  {
   "cell_type": "markdown",
   "metadata": {
    "pycharm": {
     "name": "#%% md\n"
    }
   },
   "source": [
    "*NOTE*: We did not changed the `cv2` implementation to calculate on the second dimension.\n",
    "when you are writing your own custom function, always write it assuming the source axis\n",
    "is the first dimension or `axis=0`."
   ]
  },
  {
   "cell_type": "markdown",
   "metadata": {
    "pycharm": {
     "name": "#%% md\n"
    }
   },
   "source": [
    "## Conclusions\n",
    "In this module, you learned:\n",
    "\n",
    "- how to create an `Axis` object manually from the scratch\n",
    "- how to create a remapper\n",
    "- how to apply the remapper to calculate min, average, max\n",
    "- how to write your own customized function and use the remapper to apply it\n",
    "- how to use the same remapper for multiple data fields\n",
    "- how to use the same remapper on multi-dimensional data\n",
    "- how to use the same remapper and define the dimension that corresponds to the source axis\n",
    "\n",
    "In the next module, we will look into the easier way of creating Axis. Instead of creating\n",
    "them manually, there are many different utility functions that you could use to easily create\n",
    "your source and destination axis. You could even easily create rolling window axis.\n",
    "\n",
    "\n",
    "\n",
    "\n"
   ]
  }
 ],
 "metadata": {
  "kernelspec": {
   "display_name": "Python 3",
   "language": "python",
   "name": "python3"
  },
  "language_info": {
   "codemirror_mode": {
    "name": "ipython",
    "version": 3
   },
   "file_extension": ".py",
   "mimetype": "text/x-python",
   "name": "python",
   "nbconvert_exporter": "python",
   "pygments_lexer": "ipython3",
   "version": "3.7.4"
  },
  "pycharm": {
   "stem_cell": {
    "cell_type": "raw",
    "source": [],
    "metadata": {
     "collapsed": false
    }
   }
  }
 },
 "nbformat": 4,
 "nbformat_minor": 1
}