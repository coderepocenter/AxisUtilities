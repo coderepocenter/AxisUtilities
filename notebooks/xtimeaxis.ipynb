{
 "cells": [
  {
   "cell_type": "markdown",
   "metadata": {
    "pycharm": {
     "name": "#%% md\n"
    }
   },
   "source": [
    "# Remapping Data with time tick"
   ]
  },
  {
   "cell_type": "code",
   "execution_count": null,
   "outputs": [],
   "source": [
    "import sys\n",
    "sys.path.insert(0, '../')\n",
    "import numpy as np\n",
    "import pandas as pd\n",
    "import dask.array as da\n",
    "import xarray as xr\n",
    "import hvplot.xarray\n",
    "from datetime import date\n",
    "from axisutilities import *\n",
    "\n",
    "%matplotlib inline"
   ],
   "metadata": {
    "collapsed": false,
    "pycharm": {
     "name": "#%%\n"
    }
   }
  },
  {
   "cell_type": "markdown",
   "metadata": {},
   "source": [
    "## Xarray Support"
   ]
  },
  {
   "cell_type": "code",
   "execution_count": 61,
   "metadata": {},
   "outputs": [
    {
     "data": {
      "text/html": [
       "<pre>&lt;xarray.DataArray &#x27;Tair&#x27; ()&gt;\n",
       "array(-0.7980328)\n",
       "Coordinates:\n",
       "    xc       float64 272.7\n",
       "    yc       float64 49.46</pre>"
      ],
      "text/plain": [
       "<xarray.DataArray 'Tair' ()>\n",
       "array(-0.7980328)\n",
       "Coordinates:\n",
       "    xc       float64 272.7\n",
       "    yc       float64 49.46"
      ]
     },
     "execution_count": 61,
     "metadata": {},
     "output_type": "execute_result"
    }
   ],
   "source": [
    "air_temperature = xr.tutorial.load_dataset('rasm').Tair\n",
    "nt = air_temperature.shape[0]\n",
    "iy = 20;\n",
    "ix = 200;\n",
    "# for i in range(nt):\n",
    "#     print(air_temperature.time[i].values,\",\",air_temperature[i, iy, ix].values)\n",
    "air_temperature[:,iy,ix].mean()"
   ]
  },
  {
   "cell_type": "markdown",
   "metadata": {},
   "source": [
    "## Panda and XArray"
   ]
  },
  {
   "cell_type": "code",
   "execution_count": 58,
   "metadata": {},
   "outputs": [],
   "source": [
    "air_temperature[\"time\"] = pd.date_range(start=\"1980-09-16 12:00:00\", freq='1M', periods=36)\n",
    "\n",
    "air_temperature_resampled = air_temperature.resample(time='1W').mean()\n",
    "\n",
    "# for i in range(air_temperature_resampled.shape[0]):\n",
    "#     print(air_temperature_resampled.time[i].values, \",\", air_temperature_resampled[i, iy, ix].values)\n",
    "#     for j in range(6):\n",
    "#         print(\" \")"
   ]
  },
  {
   "cell_type": "markdown",
   "metadata": {},
   "source": [
    "## AxisUtilities"
   ]
  },
  {
   "cell_type": "code",
   "execution_count": 28,
   "metadata": {},
   "outputs": [],
   "source": [
    "monthly_axis = MonthlyTimeAxis(start_year=1980, start_month=9, end_year=1983, end_month=8)\n",
    "weekly_axis = WeeklyTimeAxis(start_date=date(1980, 9, 1), n_interval=157)"
   ]
  },
  {
   "cell_type": "code",
   "execution_count": 29,
   "metadata": {},
   "outputs": [],
   "source": [
    "tc = AxisRemapper(from_axis=monthly_axis, to_axis=weekly_axis)"
   ]
  },
  {
   "cell_type": "code",
   "execution_count": 57,
   "metadata": {},
   "outputs": [],
   "source": [
    "air_temperature_remapped = tc.average(air_temperature)\n",
    "\n",
    "# for i in range(air_temperature_remapped.shape[0]):\n",
    "#     print(\n",
    "#         weekly_axis[i].asDict()[\"lower_bound\"], \",\", \n",
    "#         weekly_axis[i].asDict()[\"upper_bound\"], \",\",\n",
    "#         air_temperature_remapped[i, iy, ix]\n",
    "#     )\n",
    "#     for j in range(6):\n",
    "#         print(\" \")\n"
   ]
  },
  {
   "cell_type": "code",
   "execution_count": null,
   "metadata": {},
   "outputs": [],
   "source": [
    "\n",
    "\n",
    "\n",
    "\n",
    "\n",
    "Tair_remapped = xr.DataArray(Tair_remapped_data, dims=('time', 'y', 'x'), coords=ds_resampled.coords)\n",
    "Tair_remapped"
   ]
  },
  {
   "cell_type": "code",
   "execution_count": null,
   "metadata": {},
   "outputs": [],
   "source": [
    "Tair_remapped.dtype, ds_resampled.dtype"
   ]
  },
  {
   "cell_type": "code",
   "execution_count": null,
   "metadata": {},
   "outputs": [],
   "source": [
    "Tair_remapped.shape, ds_resampled.shape"
   ]
  },
  {
   "cell_type": "code",
   "execution_count": null,
   "metadata": {},
   "outputs": [],
   "source": [
    "np.testing.assert_allclose(Tair_remapped, ds_resampled)"
   ]
  },
  {
   "cell_type": "code",
   "execution_count": null,
   "metadata": {},
   "outputs": [],
   "source": [
    "Tair_remapped[0]"
   ]
  },
  {
   "cell_type": "code",
   "execution_count": null,
   "metadata": {},
   "outputs": [],
   "source": [
    "ds_resampled.data[0]"
   ]
  },
  {
   "cell_type": "code",
   "execution_count": null,
   "metadata": {},
   "outputs": [],
   "source": [
    "np.testing.assert_allclose(Tair_remapped[0], ds_resampled.data[0])"
   ]
  },
  {
   "cell_type": "code",
   "execution_count": null,
   "metadata": {},
   "outputs": [],
   "source": [
    "ds_resampled.isel(time=0).plot()"
   ]
  },
  {
   "cell_type": "code",
   "execution_count": null,
   "metadata": {},
   "outputs": [],
   "source": [
    "Tair_remapped.isel(time=0).plot()"
   ]
  },
  {
   "cell_type": "code",
   "execution_count": null,
   "metadata": {},
   "outputs": [],
   "source": [
    "ds_resampled.min(), ds_resampled.max(), ds_resampled.mean(), ds_resampled.median()"
   ]
  },
  {
   "cell_type": "code",
   "execution_count": null,
   "metadata": {},
   "outputs": [],
   "source": [
    "Tair_remapped.min(), Tair_remapped.max(), Tair_remapped.mean(), Tair_remapped.median()"
   ]
  },
  {
   "cell_type": "code",
   "execution_count": null,
   "metadata": {},
   "outputs": [],
   "source": []
  }
 ],
 "metadata": {
  "kernelspec": {
   "display_name": "Python 3",
   "language": "python",
   "name": "python3"
  },
  "language_info": {
   "codemirror_mode": {
    "name": "ipython",
    "version": 3
   },
   "file_extension": ".py",
   "mimetype": "text/x-python",
   "name": "python",
   "nbconvert_exporter": "python",
   "pygments_lexer": "ipython3",
   "version": "3.7.3"
  },
  "pycharm": {
   "stem_cell": {
    "cell_type": "raw",
    "source": [],
    "metadata": {
     "collapsed": false
    }
   }
  }
 },
 "nbformat": 4,
 "nbformat_minor": 4
}