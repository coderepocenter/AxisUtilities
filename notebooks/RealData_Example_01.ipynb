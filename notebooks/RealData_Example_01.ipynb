{
 "cells": [
  {
   "cell_type": "markdown",
   "source": [
    "# Real Data Example - 01\n",
    "In this example we will average a monthly data into a weekly time scale, \n",
    "as well as yearly averages."
   ],
   "metadata": {
    "collapsed": false,
    "pycharm": {
     "name": "#%% md\n"
    }
   }
  },
  {
   "cell_type": "markdown",
   "metadata": {},
   "source": [
    "## Importing Some Data\n",
    "We are going to use the \"RASM\" data set that you could load using `xarray`. Within that data\n",
    "set, we will work with `Tair` variable which is air temperature."
   ]
  },
  {
   "cell_type": "code",
   "execution_count": 21,
   "metadata": {
    "pycharm": {
     "is_executing": false
    }
   },
   "outputs": [
    {
     "name": "stdout",
     "text": [
      "Air Temperature Attributes:\n",
      "          units: C\n",
      "      long_name: Surface air temperature\n",
      " type_preferred: double\n",
      "       time_rep: instantaneous\n"
     ],
     "output_type": "stream"
    }
   ],
   "source": [
    "import xarray as xr\n",
    "monthly_air_temperature = xr.tutorial.load_dataset(\"rasm\").Tair\n",
    "print(\"Air Temperature Attributes:\")\n",
    "for k, v in monthly_air_temperature.attrs.items():\n",
    "    print(\"%15s: %s\" % (k, str(v)))"
   ]
  },
  {
   "cell_type": "markdown",
   "source": [
    "Lets now check the time axis:"
   ],
   "metadata": {
    "collapsed": false,
    "pycharm": {
     "name": "#%% md\n"
    }
   }
  },
  {
   "cell_type": "code",
   "execution_count": 22,
   "metadata": {
    "pycharm": {
     "is_executing": false
    }
   },
   "outputs": [
    {
     "name": "stdout",
     "text": [
      "size/length of time axis:  36\n",
      "First Three Time Values: \n",
      " [cftime.DatetimeNoLeap(1980-09-16 12:00:00)\n",
      " cftime.DatetimeNoLeap(1980-10-17 00:00:00)\n",
      " cftime.DatetimeNoLeap(1980-11-16 12:00:00)]\n",
      "Last Three Time Values: \n",
      " [cftime.DatetimeNoLeap(1983-06-16 12:00:00)\n",
      " cftime.DatetimeNoLeap(1983-07-17 00:00:00)\n",
      " cftime.DatetimeNoLeap(1983-08-17 00:00:00)]\n"
     ],
     "output_type": "stream"
    }
   ],
   "source": [
    "time_axis = monthly_air_temperature[\"time\"]\n",
    "nTime = time_axis.size\n",
    "print(\"size/length of time axis: \", nTime)\n",
    "print(\"First Three Time Values: \\n\", time_axis.values[:3])\n",
    "print(\"Last Three Time Values: \\n\", time_axis.values[-3:])"
   ]
  },
  {
   "cell_type": "markdown",
   "source": [
    "as you can see this data set contains monthly temperature, starting from Septermber, 1980,\n",
    "going for 36 months (3 years), and ending on August, 1983. Let's plot the time series for \n",
    "one location:"
   ],
   "metadata": {
    "collapsed": false,
    "pycharm": {
     "name": "#%% md\n"
    }
   }
  },
  {
   "cell_type": "code",
   "execution_count": 23,
   "outputs": [
    {
     "data": {
      "text/plain": "<BarContainer object of 36 artists>"
     },
     "metadata": {},
     "output_type": "execute_result",
     "execution_count": 23
    },
    {
     "data": {
      "text/plain": "<Figure size 432x288 with 1 Axes>",
      "image/png": "[encoded data removed]"
     },
     "metadata": {
      "needs_background": "light"
     },
     "output_type": "display_data"
    }
   ],
   "source": [
    "import numpy as np\n",
    "from matplotlib import pyplot as plt\n",
    "#matplotlib inline\n",
    "\n",
    "iy = 20\n",
    "ix = 200\n",
    "plt.bar(np.arange(nTime), monthly_air_temperature[:, iy, ix])"
   ],
   "metadata": {
    "collapsed": false,
    "pycharm": {
     "name": "#%%\n",
     "is_executing": false
    }
   }
  },
  {
   "cell_type": "markdown",
   "source": [
    "## Calculating Weekly Average using `AxisUtilities`\n",
    "As you have learned in orevious notebooks, in order to perform the remapping we need to\n",
    "perform the follow four steps:\n",
    "\n",
    "0. Create source axis object,\n",
    "1. Create destination axis object,\n",
    "2. Create a remapping object, and finally\n",
    "3. Perform the remapping\n",
    "\n",
    "*NOTE* if you haven't read through the tutorial notebooks yet, perhaps now it's a good\n",
    "time to have a look at them."
   ],
   "metadata": {
    "collapsed": false,
    "pycharm": {
     "name": "#%% md\n"
    }
   }
  },
  {
   "cell_type": "markdown",
   "source": [
    "### Creating source axis\n",
    "As seen above, the source data covers 36 months of data starting with September of 1980 and\n",
    "ending on August of 1983.\n",
    "You can use one of the available utilities to easily create the source axis:"
   ],
   "metadata": {
    "collapsed": false,
    "pycharm": {
     "name": "#%% md\n"
    }
   }
  },
  {
   "cell_type": "code",
   "execution_count": 24,
   "outputs": [
    {
     "name": "stdout",
     "text": [
      "source axis: \n",
      " <timeaxis.TimeAxis>\n",
      "\n",
      "  > nelem:\n",
      "\t36\n",
      "  > lower_bound:\n",
      "\t[336614400000000 ... 428544000000000]\n",
      "  > upper_bound:\n",
      "\t[339206400000000 ... 431222400000000]\n",
      "  > data_ticks:\n",
      "\t[337910400000000 ... 429883200000000]\n",
      "  > fraction:\n",
      "\t[0.5 ... 0.5]\n",
      "  > binding:\n",
      "\tmiddle\n"
     ],
     "output_type": "stream"
    }
   ],
   "source": [
    "from axisutilities import MonthlyTimeAxis\n",
    "monthly_axis = MonthlyTimeAxis(\n",
    "    start_year=1980,\n",
    "    start_month=9,\n",
    "    end_year=1983,\n",
    "    end_month=8\n",
    ")\n",
    "print(\"source axis: \\n\", monthly_axis)"
   ],
   "metadata": {
    "collapsed": false,
    "pycharm": {
     "name": "#%%\n",
     "is_executing": false
    }
   }
  },
  {
   "cell_type": "markdown",
   "source": [
    "### Creating destination axis\n",
    "Lets create a destination axis, with each element representing one week rather than a month.\n",
    "Our destination axis starts on September 1st, 1980, and has 156 week/elements in it:"
   ],
   "metadata": {
    "collapsed": false,
    "pycharm": {
     "name": "#%% md\n"
    }
   }
  },
  {
   "cell_type": "code",
   "execution_count": 25,
   "outputs": [
    {
     "name": "stdout",
     "text": [
      "Destination Axis: \n",
      " <timeaxis.TimeAxis>\n",
      "\n",
      "  > nelem:\n",
      "\t156\n",
      "  > lower_bound:\n",
      "\t[336614400000000 ... 430358400000000]\n",
      "  > upper_bound:\n",
      "\t[337219200000000 ... 430963200000000]\n",
      "  > data_ticks:\n",
      "\t[336916800000000 ... 430660800000000]\n",
      "  > fraction:\n",
      "\t[0.5 ... 0.5]\n",
      "  > binding:\n",
      "\tmiddle\n"
     ],
     "output_type": "stream"
    }
   ],
   "source": [
    "from datetime import date\n",
    "from axisutilities import WeeklyTimeAxis\n",
    "weekly_axis = WeeklyTimeAxis(\n",
    "    start_date=date(1980, 9, 1),\n",
    "    n_interval=156\n",
    ")\n",
    "\n",
    "print(\"Destination Axis: \\n\", weekly_axis)"
   ],
   "metadata": {
    "collapsed": false,
    "pycharm": {
     "name": "#%%\n",
     "is_executing": false
    }
   }
  },
  {
   "cell_type": "markdown",
   "source": [
    "### Creating a remapper\n",
    "The remapper could be created as follows:"
   ],
   "metadata": {
    "collapsed": false,
    "pycharm": {
     "name": "#%% md\n"
    }
   }
  },
  {
   "cell_type": "code",
   "execution_count": 26,
   "outputs": [],
   "source": [
    "from axisutilities import AxisRemapper\n",
    "monthly_to_weekly_remapper = AxisRemapper(\n",
    "    from_axis=monthly_axis, \n",
    "    to_axis=weekly_axis,\n",
    "    assure_no_bound_mismatch=False\n",
    ")"
   ],
   "metadata": {
    "collapsed": false,
    "pycharm": {
     "name": "#%%\n",
     "is_executing": false
    }
   }
  },
  {
   "cell_type": "markdown",
   "source": [
    "Note that since the source and destination matrix do not cover exactly the same period \n",
    "(156 week is a feww days shorter than 3 years covered in our source data), we\n",
    "need to inform the remapper that we are aware of this mismatch and we do still want to\n",
    "perform this conversion or remapping. That's the reason for passing `assure_no_bound_mismatch`\n",
    "parameter and setting it to `False`. If the source and destination axis cover the exact\n",
    "period, there is no need to pass that paramaeter."
   ],
   "metadata": {
    "collapsed": false,
    "pycharm": {
     "name": "#%% md\n"
    }
   }
  },
  {
   "cell_type": "markdown",
   "source": [
    "### Calculating the weekly average\n",
    "Now that we have created the remapper we can easily remap the data from monthly axis to\n",
    "weekly axis:"
   ],
   "metadata": {
    "collapsed": false,
    "pycharm": {
     "name": "#%% md\n"
    }
   }
  },
  {
   "cell_type": "code",
   "execution_count": 27,
   "outputs": [
    {
     "name": "stderr",
     "text": [
      "/Users/mabouali/NCAR/GitHub/coderepocenter/AxisUtilities/axisutilities/axisremapper.py:273: RuntimeWarning: divide by zero encountered in reciprocal\n",
      "  inverse_sum_effective_weights = np.reciprocal(weights * non_nan_mask)\n",
      "/Users/mabouali/NCAR/GitHub/coderepocenter/AxisUtilities/axisutilities/axisremapper.py:276: RuntimeWarning: invalid value encountered in multiply\n",
      "  np.multiply(weights * from_data_copy, inverse_sum_effective_weights),\n"
     ],
     "output_type": "stream"
    }
   ],
   "source": [
    "weekly_air_temperature = monthly_to_weekly_remapper.average(monthly_air_temperature)"
   ],
   "metadata": {
    "collapsed": false,
    "pycharm": {
     "name": "#%%\n",
     "is_executing": false
    }
   }
  },
  {
   "cell_type": "markdown",
   "source": [
    "Let's plot the time series for the same location as before:"
   ],
   "metadata": {
    "collapsed": false,
    "pycharm": {
     "name": "#%% md\n"
    }
   }
  },
  {
   "cell_type": "code",
   "execution_count": 20,
   "outputs": [
    {
     "data": {
      "text/plain": "<BarContainer object of 156 artists>"
     },
     "metadata": {},
     "output_type": "execute_result",
     "execution_count": 20
    },
    {
     "data": {
      "text/plain": "<Figure size 432x288 with 1 Axes>",
      "image/png": "[encoded data removed]"
     },
     "metadata": {
      "needs_background": "light"
     },
     "output_type": "display_data"
    }
   ],
   "source": [
    "plt.bar(np.arange(weekly_axis.nelem), weekly_air_temperature[:, iy, ix])"
   ],
   "metadata": {
    "collapsed": false,
    "pycharm": {
     "name": "#%%\n",
     "is_executing": false
    }
   }
  },
  {
   "cell_type": "markdown",
   "source": [
    "## Calculating Yearly averages\n",
    "The same four steps needs to be followed to calculate yearly averages."
   ],
   "metadata": {
    "collapsed": false,
    "pycharm": {
     "name": "#%% md\n"
    }
   }
  },
  {
   "cell_type": "markdown",
   "source": [
    "### Creating source axis\n",
    "since the data has not changed, we could use the same source axis as before. So there is\n",
    "no need to recreate it here."
   ],
   "metadata": {
    "collapsed": false,
    "pycharm": {
     "name": "#%% md\n"
    }
   }
  },
  {
   "cell_type": "markdown",
   "source": [
    "### Creating Yearly axis:\n",
    "We need to create a 4 year axis"
   ],
   "metadata": {
    "collapsed": false,
    "pycharm": {
     "name": "#%% md\n"
    }
   }
  },
  {
   "cell_type": "code",
   "execution_count": null,
   "outputs": [],
   "source": [
    "from axisutilities import Y"
   ],
   "metadata": {
    "collapsed": false,
    "pycharm": {
     "name": "#%%\n"
    }
   }
  },
  {
   "cell_type": "code",
   "execution_count": 7,
   "metadata": {
    "pycharm": {
     "is_executing": false
    }
   },
   "outputs": [
    {
     "traceback": [
      "\u001b[0;31m---------------------------------------------------------------------------\u001b[0m",
      "\u001b[0;31mNameError\u001b[0m                                 Traceback (most recent call last)",
      "\u001b[0;32m<ipython-input-7-49755f23ab94>\u001b[0m in \u001b[0;36m<module>\u001b[0;34m\u001b[0m\n\u001b[0;32m----> 1\u001b[0;31m \u001b[0mds\u001b[0m\u001b[0;34m[\u001b[0m\u001b[0;34m\"time\"\u001b[0m\u001b[0;34m]\u001b[0m \u001b[0;34m=\u001b[0m \u001b[0mpd\u001b[0m\u001b[0;34m.\u001b[0m\u001b[0mdate_range\u001b[0m\u001b[0;34m(\u001b[0m\u001b[0mstart\u001b[0m\u001b[0;34m=\u001b[0m\u001b[0;34m\"1980-09-16 12:00:00\"\u001b[0m\u001b[0;34m,\u001b[0m \u001b[0mfreq\u001b[0m\u001b[0;34m=\u001b[0m\u001b[0;34m'1M'\u001b[0m\u001b[0;34m,\u001b[0m \u001b[0mperiods\u001b[0m\u001b[0;34m=\u001b[0m\u001b[0;36m36\u001b[0m\u001b[0;34m)\u001b[0m\u001b[0;34m\u001b[0m\u001b[0;34m\u001b[0m\u001b[0m\n\u001b[0m\u001b[1;32m      2\u001b[0m \u001b[0mds\u001b[0m\u001b[0;34m\u001b[0m\u001b[0;34m\u001b[0m\u001b[0m\n\u001b[1;32m      3\u001b[0m \u001b[0;34m\u001b[0m\u001b[0m\n",
      "\u001b[0;31mNameError\u001b[0m: name 'pd' is not defined"
     ],
     "ename": "NameError",
     "evalue": "name 'pd' is not defined",
     "output_type": "error"
    }
   ],
   "source": [
    "ds[\"time\"] = pd.date_range(start=\"1980-09-16 12:00:00\", freq='1M', periods=36)\n",
    "ds"
   ]
  },
  {
   "cell_type": "code",
   "execution_count": null,
   "metadata": {
    "pycharm": {
     "is_executing": false
    }
   },
   "outputs": [],
   "source": [
    "ds_resampled = ds.resample(time='1W').mean()\n",
    "ds_resampled"
   ]
  },
  {
   "cell_type": "code",
   "execution_count": null,
   "metadata": {
    "pycharm": {
     "is_executing": false
    }
   },
   "outputs": [],
   "source": [
    "from_axis = MonthlyTimeAxisBuilder(start_year=1980, start_month=9, end_year=1983, end_month=8).build()\n",
    "to_axis = WeeklyTimeAxisBuilder(start_date=date(1980, 9, 30), n_interval=153).build()"
   ]
  },
  {
   "cell_type": "code",
   "execution_count": null,
   "metadata": {
    "pycharm": {
     "is_executing": false
    }
   },
   "outputs": [],
   "source": [
    "tc = AxisConverter(from_axis=from_axis, to_axis=to_axis)\n",
    "tc"
   ]
  },
  {
   "cell_type": "code",
   "execution_count": null,
   "metadata": {
    "pycharm": {
     "is_executing": false
    }
   },
   "outputs": [],
   "source": [
    "Tair_remapped_data = tc.average(ds)\n",
    "Tair_remapped = xr.DataArray(Tair_remapped_data, dims=('time', 'y', 'x'), coords=ds_resampled.coords)\n",
    "Tair_remapped"
   ]
  },
  {
   "cell_type": "code",
   "execution_count": null,
   "metadata": {
    "pycharm": {
     "is_executing": false
    }
   },
   "outputs": [],
   "source": [
    "Tair_remapped.dtype, ds_resampled.dtype"
   ]
  },
  {
   "cell_type": "code",
   "execution_count": null,
   "metadata": {
    "pycharm": {
     "is_executing": false
    }
   },
   "outputs": [],
   "source": [
    "Tair_remapped.shape, ds_resampled.shape"
   ]
  },
  {
   "cell_type": "code",
   "execution_count": null,
   "metadata": {
    "pycharm": {
     "is_executing": false
    }
   },
   "outputs": [],
   "source": [
    "np.testing.assert_allclose(Tair_remapped, ds_resampled)"
   ]
  },
  {
   "cell_type": "code",
   "execution_count": null,
   "metadata": {
    "pycharm": {
     "is_executing": false
    }
   },
   "outputs": [],
   "source": [
    "Tair_remapped[0]"
   ]
  },
  {
   "cell_type": "code",
   "execution_count": null,
   "metadata": {
    "pycharm": {
     "is_executing": false
    }
   },
   "outputs": [],
   "source": [
    "ds_resampled.data[0]"
   ]
  },
  {
   "cell_type": "code",
   "execution_count": null,
   "metadata": {
    "pycharm": {
     "is_executing": false
    }
   },
   "outputs": [],
   "source": [
    "np.testing.assert_allclose(Tair_remapped[0], ds_resampled.data[0])"
   ]
  },
  {
   "cell_type": "code",
   "execution_count": null,
   "metadata": {
    "pycharm": {
     "is_executing": false
    }
   },
   "outputs": [],
   "source": [
    "ds_resampled.isel(time=0).plot()"
   ]
  },
  {
   "cell_type": "code",
   "execution_count": null,
   "metadata": {
    "pycharm": {
     "is_executing": false
    }
   },
   "outputs": [],
   "source": [
    "Tair_remapped.isel(time=0).plot()"
   ]
  },
  {
   "cell_type": "code",
   "execution_count": null,
   "metadata": {
    "pycharm": {
     "is_executing": false
    }
   },
   "outputs": [],
   "source": [
    "ds_resampled.min(), ds_resampled.max(), ds_resampled.mean(), ds_resampled.median()"
   ]
  },
  {
   "cell_type": "code",
   "execution_count": null,
   "metadata": {
    "pycharm": {
     "is_executing": false
    }
   },
   "outputs": [],
   "source": [
    "Tair_remapped.min(), Tair_remapped.max(), Tair_remapped.mean(), Tair_remapped.median()"
   ]
  },
  {
   "cell_type": "code",
   "execution_count": null,
   "metadata": {
    "pycharm": {
     "is_executing": false
    }
   },
   "outputs": [],
   "source": []
  }
 ],
 "metadata": {
  "kernelspec": {
   "name": "python3",
   "language": "python",
   "display_name": "Python 3"
  },
  "language_info": {
   "codemirror_mode": {
    "name": "ipython",
    "version": 3
   },
   "file_extension": ".py",
   "mimetype": "text/x-python",
   "name": "python",
   "nbconvert_exporter": "python",
   "pygments_lexer": "ipython3",
   "version": "3.7.3"
  },
  "pycharm": {
   "stem_cell": {
    "cell_type": "raw",
    "source": [],
    "metadata": {
     "collapsed": false
    }
   }
  }
 },
 "nbformat": 4,
 "nbformat_minor": 4
}