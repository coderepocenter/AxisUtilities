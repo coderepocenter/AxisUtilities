{
 "cells": [
  {
   "cell_type": "markdown",
   "metadata": {},
   "source": [
    "# 02 - Axis Builder Utilities\n",
    "In \"Getting Started\" notebook, we learned how to manually create the time axis along many\n",
    "other things. Essentially, using the base `Axis` class you should be able to create different\n",
    "axis for both source and destination; hence, the remapper; and finally start remappingn your\n",
    "data from source axis to your destination axis.\n",
    "\n",
    "While in previous module, you were required to perform manual calculations for the upper\n",
    "and lower bound, in this module we learn how to create those axis and automatically have\n",
    "those bounds calculatd for some more general cases.\n",
    "\n",
    "## Example 0: Easier Approach to previus module example\n",
    "In previous module we assumed that our source axis is a 21 day axis and our destination axis\n",
    "was covering the same span of time but with weekly temporal resolution. In another word,\n",
    "we were going from daily time scale to weekly time scale.\n",
    "\n",
    "\n",
    "### Creating daily source axis:\n",
    "To create a 21 day source time axis an easier approach would be:"
   ]
  },
  {
   "cell_type": "code",
   "execution_count": 6,
   "outputs": [
    {
     "name": "stdout",
     "text": [
      "Source Axis: \n",
      " <timeaxis.TimeAxis>\n",
      "\n",
      "  > nelem:\n",
      "\t21\n",
      "  > lower_bound:\n",
      "\t[1577836800000000 ... 1579564800000000]\n",
      "  > upper_bound:\n",
      "\t[1577923200000000 ... 1579651200000000]\n",
      "  > data_ticks:\n",
      "\t[1577880000000000 ... 1579608000000000]\n",
      "  > fraction:\n",
      "\t[0.5 ... 0.5]\n",
      "  > binding:\n",
      "\tmiddle\n"
     ],
     "output_type": "stream"
    }
   ],
   "source": [
    "from axisutilities import DailyTimeAxis\n",
    "from datetime import date\n",
    "src_axis = DailyTimeAxis(\n",
    "    start_date=date(2020, 1, 1),\n",
    "    n_interval=21\n",
    ")\n",
    "\n",
    "print(\"Source Axis: \\n\", src_axis)"
   ],
   "metadata": {
    "collapsed": false,
    "pycharm": {
     "name": "#%%\n",
     "is_executing": false
    }
   }
  },
  {
   "cell_type": "markdown",
   "metadata": {
    "pycharm": {
     "name": "#%% md\n"
    }
   },
   "source": [
    "Notes: \n",
    "- These utilities internally use micro-second passed from Jan 1st, 1970 as the unit.\n",
    "If you are mixing and matching axis builder utilities with that of the manual calculation\n",
    "make sure that you are using the same units and reference for all the axis\n",
    "- If you want to change the default time unit, i.e. microsecond to another unit, you are\n",
    "able to do that by passing a second conversion factor. For example, to use hour as your time\n",
    "unit you can do the following"
   ]
  },
  {
   "cell_type": "code",
   "execution_count": 7,
   "outputs": [
    {
     "name": "stdout",
     "text": [
      "Source Axis [Hourly]: \n",
      " <timeaxis.TimeAxis>\n",
      "\n",
      "  > nelem:\n",
      "\t21\n",
      "  > lower_bound:\n",
      "\t[438288 ... 438768]\n",
      "  > upper_bound:\n",
      "\t[438312 ... 438792]\n",
      "  > data_ticks:\n",
      "\t[438300 ... 438780]\n",
      "  > fraction:\n",
      "\t[0.5 ... 0.5]\n",
      "  > binding:\n",
      "\tmiddle\n"
     ],
     "output_type": "stream"
    }
   ],
   "source": [
    "src_axis_hr = DailyTimeAxis(\n",
    "    start_date=date(2020, 1, 1),\n",
    "    n_interval=21,\n",
    "    second_conversion_factor=(1.0 / 3600.0)\n",
    ")\n",
    "\n",
    "print(\"Source Axis [Hourly]: \\n\", src_axis_hr)"
   ],
   "metadata": {
    "collapsed": false,
    "pycharm": {
     "name": "#%%\n",
     "is_executing": false
    }
   }
  },
  {
   "cell_type": "markdown",
   "source": [
    "### Creating Weekly time axis:\n",
    "Similarly, we could create the weekly time axis as follows:"
   ],
   "metadata": {
    "collapsed": false,
    "pycharm": {
     "name": "#%% md\n"
    }
   }
  },
  {
   "cell_type": "code",
   "execution_count": 8,
   "outputs": [
    {
     "name": "stdout",
     "text": [
      "Destination Axis: \n",
      " <timeaxis.TimeAxis>\n",
      "\n",
      "  > nelem:\n",
      "\t3\n",
      "  > lower_bound:\n",
      "\t[1577836800000000 ... 1579046400000000]\n",
      "  > upper_bound:\n",
      "\t[1578441600000000 ... 1579651200000000]\n",
      "  > data_ticks:\n",
      "\t[1578139200000000 ... 1579348800000000]\n",
      "  > fraction:\n",
      "\t[0.5 ... 0.5]\n",
      "  > binding:\n",
      "\tmiddle\n"
     ],
     "output_type": "stream"
    }
   ],
   "source": [
    "from axisutilities import WeeklyTimeAxis\n",
    "dst_axis = WeeklyTimeAxis(\n",
    "    start_date=date(2020, 1, 1),\n",
    "    n_interval=3\n",
    ")\n",
    "\n",
    "print(\"Destination Axis: \\n\", dst_axis)"
   ],
   "metadata": {
    "collapsed": false,
    "pycharm": {
     "name": "#%%\n",
     "is_executing": false
    }
   }
  },
  {
   "cell_type": "markdown",
   "source": [
    "### Creating remapper and remapping data\n",
    "Once you have the source and destination axis, the rest of the procedure is the same: you would\n",
    "need to create a remapper object and then start remapping data."
   ],
   "metadata": {
    "collapsed": false,
    "pycharm": {
     "name": "#%% md\n"
    }
   }
  },
  {
   "cell_type": "code",
   "execution_count": 9,
   "outputs": [
    {
     "name": "stdout",
     "text": [
      "Shape of remapped Sample Data:  (3, 90, 360)\n"
     ],
     "output_type": "stream"
    }
   ],
   "source": [
    "from axisutilities import AxisRemapper\n",
    "import numpy as np\n",
    "\n",
    "remapper = AxisRemapper(from_axis=src_axis, to_axis=dst_axis)\n",
    "\n",
    "sample_data = np.random.random((21, 90, 360))\n",
    "\n",
    "sample_data_wkly_avg = remapper.average(sample_data)\n",
    "\n",
    "print(\"Shape of remapped Sample Data: \", sample_data_wkly_avg.shape)\n"
   ],
   "metadata": {
    "collapsed": false,
    "pycharm": {
     "name": "#%%\n",
     "is_executing": false
    }
   }
  },
  {
   "cell_type": "markdown",
   "source": [
    "## Creating a Rolling window Time axis\n",
    "In this example, let's assume we have the same source data and axis; however, we are \n",
    "interested to calculate a moving average with a window size of one week. There is a\n",
    "utility function allowing you to do this:"
   ],
   "metadata": {
    "collapsed": false,
    "pycharm": {
     "name": "#%% md\n"
    }
   }
  },
  {
   "cell_type": "code",
   "execution_count": 10,
   "outputs": [],
   "source": [
    "from axisutilities import RollingWindowTimeAxis\n",
    "from datetime import timedelta\n",
    "rollingWindow_dst_axis = RollingWindowTimeAxis(\n",
    "    start_date=date(2020, 1, 1),\n",
    "    end_date=date(2020, 1, 22),\n",
    "    base=timedelta(days=1),\n",
    "    window_size=7\n",
    ")"
   ],
   "metadata": {
    "collapsed": false,
    "pycharm": {
     "name": "#%%\n",
     "is_executing": false
    }
   }
  },
  {
   "cell_type": "markdown",
   "source": [
    "## Conclusions\n",
    "In this module we learned how to perform the same task that we did in the first module, i.e.\n",
    "creating daily and weekly time axis, without doing any manual calculations for lower and\n",
    "upper bounds. Also we learned some extra utilities for creating weekly rolling window.\n",
    "\n",
    "PLease do note that:\n",
    "- we only touched the surface of the available utilities. There way more utilities available\n",
    "and we are planning to add even more.\n",
    "- Even for the examples, that we provided, we only show their limited capabilities. For example, \n",
    "you can change the base length of the window in the rolling window to be any unit that you want\n",
    "it to be.\n",
    "\n",
    "\n"
   ],
   "metadata": {
    "collapsed": false,
    "pycharm": {
     "name": "#%% md\n"
    }
   }
  }
 ],
 "metadata": {
  "kernelspec": {
   "display_name": "Python 3",
   "language": "python",
   "name": "python3"
  },
  "language_info": {
   "codemirror_mode": {
    "name": "ipython",
    "version": 3
   },
   "file_extension": ".py",
   "mimetype": "text/x-python",
   "name": "python",
   "nbconvert_exporter": "python",
   "pygments_lexer": "ipython3",
   "version": "3.7.4"
  },
  "pycharm": {
   "stem_cell": {
    "cell_type": "raw",
    "source": [],
    "metadata": {
     "collapsed": false
    }
   }
  }
 },
 "nbformat": 4,
 "nbformat_minor": 4
}